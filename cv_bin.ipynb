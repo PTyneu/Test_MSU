{
  "nbformat": 4,
  "nbformat_minor": 0,
  "metadata": {
    "colab": {
      "name": "cv_bin.ipynb",
      "provenance": [],
      "collapsed_sections": []
    },
    "kernelspec": {
      "name": "python3",
      "display_name": "Python 3"
    },
    "language_info": {
      "name": "python"
    },
    "accelerator": "GPU"
  },
  "cells": [
    {
      "cell_type": "code",
      "source": [
        "from google.colab import drive\n",
        "drive.mount('/content/drive')"
      ],
      "metadata": {
        "colab": {
          "base_uri": "https://localhost:8080/"
        },
        "id": "F3cNRzgbY10x",
        "outputId": "42e06f31-0fa7-4795-eefd-44da159cd2d5"
      },
      "execution_count": 1,
      "outputs": [
        {
          "output_type": "stream",
          "name": "stdout",
          "text": [
            "Drive already mounted at /content/drive; to attempt to forcibly remount, call drive.mount(\"/content/drive\", force_remount=True).\n"
          ]
        }
      ]
    },
    {
      "cell_type": "code",
      "execution_count": 2,
      "metadata": {
        "id": "45d4ix08UGlL"
      },
      "outputs": [],
      "source": [
        "from tensorflow.python.keras.preprocessing.image import ImageDataGenerator\n",
        "from tensorflow.python.keras.models import Sequential\n",
        "from tensorflow.python.keras.layers import Conv2D, MaxPooling2D, AvgPool2D, Dropout, Flatten, Dense\n",
        "from tensorflow.keras.callbacks import ModelCheckpoint\n",
        "import matplotlib.pyplot as plt"
      ]
    },
    {
      "cell_type": "code",
      "source": [
        "train_datagen = ImageDataGenerator(\n",
        "    validation_split=0.25,\n",
        "    rescale=1./255,\n",
        "    horizontal_flip=True,\n",
        "    vertical_flip=True,\n",
        "    rotation_range=90,\n",
        "    width_shift_range=0.2,\n",
        "    height_shift_range=0.2)\n",
        "\n",
        "validation_datagen = ImageDataGenerator(\n",
        "    validation_split=0.25,\n",
        "    rescale=1./255,\n",
        "    # horizontal_flip=True,\n",
        "    # vertical_flip=True,\n",
        "    # rotation_range=90,\n",
        "    # width_shift_range=0.2,\n",
        "    # height_shift_range=0.2\n",
        ")\n",
        "\n",
        "train_datagen_flow = train_datagen.flow_from_directory(\n",
        "    '/content/drive/MyDrive/МГУ_тестовое/imgs_details/train',\n",
        "    target_size=(150, 150),\n",
        "    #batch_size=33,\n",
        "    batch_size=1,\n",
        "    class_mode='binary',\n",
        "    subset='training',\n",
        "    seed=12345)\n",
        "\n",
        "val_datagen_flow = validation_datagen.flow_from_directory(\n",
        "    '/content/drive/MyDrive/МГУ_тестовое/imgs_details/train',\n",
        "    target_size=(150, 150),\n",
        "    #batch_size=10,\n",
        "    batch_size=1,\n",
        "    class_mode='binary',\n",
        "    subset='validation',\n",
        "    seed=12345) \n",
        "\n",
        "datagen = ImageDataGenerator(rescale=1. / 255)\n",
        "test_generator = datagen.flow_from_directory(\n",
        "    '/content/drive/MyDrive/МГУ_тестовое/imgs_details/test',\n",
        "    target_size=(150, 150),\n",
        "    #batch_size=21,\n",
        "    batch_size=1,\n",
        "    class_mode='binary')\n"
      ],
      "metadata": {
        "colab": {
          "base_uri": "https://localhost:8080/"
        },
        "id": "ns21Oop-UNWe",
        "outputId": "1c5ae3f8-f8a3-4d90-8c0e-d3ddfe92b17e"
      },
      "execution_count": 3,
      "outputs": [
        {
          "output_type": "stream",
          "name": "stdout",
          "text": [
            "Found 33 images belonging to 2 classes.\n",
            "Found 10 images belonging to 2 classes.\n",
            "Found 21 images belonging to 2 classes.\n"
          ]
        }
      ]
    },
    {
      "cell_type": "code",
      "source": [
        "model = Sequential()\n",
        "model.add(Conv2D(32, (3, 3), input_shape=(150, 150, 3)))\n",
        "model.add(Activation('relu'))\n",
        "model.add(MaxPooling2D(pool_size=(2, 2)))\n",
        "\n",
        "model.add(Conv2D(32, (3, 3), activation='relu'))\n",
        "model.add(MaxPooling2D(pool_size=(2, 2)))\n",
        "\n",
        "model.add(Conv2D(64, (3, 3), activation='relu'))\n",
        "model.add(MaxPooling2D(pool_size=(2, 2)))\n",
        "\n",
        "model.add(Flatten())\n",
        "model.add(Dense(64, activation='relu'))\n",
        "model.add(Dropout(0.5))\n",
        "model.add(Dense(1, activation='sigmoid'))"
      ],
      "metadata": {
        "id": "BM27I7Cwcw0W"
      },
      "execution_count": 4,
      "outputs": []
    },
    {
      "cell_type": "code",
      "source": [
        "model.compile(loss='binary_crossentropy',\n",
        "              optimizer='adam',\n",
        "              metrics=['accuracy'])"
      ],
      "metadata": {
        "id": "0IW_s5_7dXtF"
      },
      "execution_count": 5,
      "outputs": []
    },
    {
      "cell_type": "code",
      "source": [
        "model_cnn_save_path = 'best_model_cnn.h5'\n",
        "checkpoint_callback_cnn = ModelCheckpoint(model_cnn_save_path, \n",
        "                                      monitor='val_accuracy',\n",
        "                                      save_best_only=True,\n",
        "                                      verbose=1)"
      ],
      "metadata": {
        "id": "91vsuldrrHAa"
      },
      "execution_count": 6,
      "outputs": []
    },
    {
      "cell_type": "code",
      "source": [
        "history_cnn = model.fit_generator(\n",
        "    train_datagen_flow,\n",
        "    steps_per_epoch=33,\n",
        "    epochs=20,\n",
        "    validation_data=val_datagen_flow,\n",
        "    validation_steps=10,\n",
        "    callbacks=[checkpoint_callback_cnn])"
      ],
      "metadata": {
        "colab": {
          "base_uri": "https://localhost:8080/"
        },
        "id": "z5XnFgO2d43m",
        "outputId": "98127cff-8e3e-4261-c3c4-8312eedeca41"
      },
      "execution_count": 7,
      "outputs": [
        {
          "output_type": "stream",
          "name": "stderr",
          "text": [
            "/usr/local/lib/python3.7/dist-packages/tensorflow/python/keras/engine/training.py:1963: UserWarning: `Model.fit_generator` is deprecated and will be removed in a future version. Please use `Model.fit`, which supports generators.\n",
            "  warnings.warn('`Model.fit_generator` is deprecated and '\n"
          ]
        },
        {
          "output_type": "stream",
          "name": "stdout",
          "text": [
            "Epoch 1/20\n",
            "33/33 [==============================] - 13s 297ms/step - loss: 0.8040 - accuracy: 0.6061 - val_loss: 0.6734 - val_accuracy: 0.6000\n",
            "\n",
            "Epoch 00001: val_accuracy improved from -inf to 0.60000, saving model to best_model_cnn.h5\n",
            "Epoch 2/20\n",
            "33/33 [==============================] - 10s 297ms/step - loss: 0.9118 - accuracy: 0.6364 - val_loss: 0.7284 - val_accuracy: 0.6000\n",
            "\n",
            "Epoch 00002: val_accuracy did not improve from 0.60000\n",
            "Epoch 3/20\n",
            "33/33 [==============================] - 9s 290ms/step - loss: 0.8888 - accuracy: 0.6061 - val_loss: 0.6852 - val_accuracy: 0.6000\n",
            "\n",
            "Epoch 00003: val_accuracy did not improve from 0.60000\n",
            "Epoch 4/20\n",
            "33/33 [==============================] - 10s 292ms/step - loss: 0.7374 - accuracy: 0.4545 - val_loss: 0.6918 - val_accuracy: 0.9000\n",
            "\n",
            "Epoch 00004: val_accuracy improved from 0.60000 to 0.90000, saving model to best_model_cnn.h5\n",
            "Epoch 5/20\n",
            "33/33 [==============================] - 10s 292ms/step - loss: 0.7202 - accuracy: 0.5152 - val_loss: 0.7613 - val_accuracy: 0.6000\n",
            "\n",
            "Epoch 00005: val_accuracy did not improve from 0.90000\n",
            "Epoch 6/20\n",
            "33/33 [==============================] - 9s 288ms/step - loss: 0.6758 - accuracy: 0.6364 - val_loss: 0.6489 - val_accuracy: 0.6000\n",
            "\n",
            "Epoch 00006: val_accuracy did not improve from 0.90000\n",
            "Epoch 7/20\n",
            "33/33 [==============================] - 10s 292ms/step - loss: 0.7100 - accuracy: 0.5455 - val_loss: 0.5585 - val_accuracy: 0.6000\n",
            "\n",
            "Epoch 00007: val_accuracy did not improve from 0.90000\n",
            "Epoch 8/20\n",
            "33/33 [==============================] - 10s 294ms/step - loss: 0.7139 - accuracy: 0.6061 - val_loss: 0.5859 - val_accuracy: 1.0000\n",
            "\n",
            "Epoch 00008: val_accuracy improved from 0.90000 to 1.00000, saving model to best_model_cnn.h5\n",
            "Epoch 9/20\n",
            "33/33 [==============================] - 10s 293ms/step - loss: 0.6616 - accuracy: 0.4848 - val_loss: 0.5020 - val_accuracy: 0.6000\n",
            "\n",
            "Epoch 00009: val_accuracy did not improve from 1.00000\n",
            "Epoch 10/20\n",
            "33/33 [==============================] - 10s 290ms/step - loss: 0.5410 - accuracy: 0.6364 - val_loss: 0.4423 - val_accuracy: 0.6000\n",
            "\n",
            "Epoch 00010: val_accuracy did not improve from 1.00000\n",
            "Epoch 11/20\n",
            "33/33 [==============================] - 9s 289ms/step - loss: 0.4520 - accuracy: 0.7879 - val_loss: 0.3286 - val_accuracy: 0.8000\n",
            "\n",
            "Epoch 00011: val_accuracy did not improve from 1.00000\n",
            "Epoch 12/20\n",
            "33/33 [==============================] - 10s 291ms/step - loss: 0.4245 - accuracy: 0.6970 - val_loss: 0.2714 - val_accuracy: 0.9000\n",
            "\n",
            "Epoch 00012: val_accuracy did not improve from 1.00000\n",
            "Epoch 13/20\n",
            "33/33 [==============================] - 10s 292ms/step - loss: 0.3336 - accuracy: 0.8788 - val_loss: 0.2265 - val_accuracy: 0.9000\n",
            "\n",
            "Epoch 00013: val_accuracy did not improve from 1.00000\n",
            "Epoch 14/20\n",
            "33/33 [==============================] - 9s 287ms/step - loss: 0.1682 - accuracy: 0.9697 - val_loss: 0.2018 - val_accuracy: 0.9000\n",
            "\n",
            "Epoch 00014: val_accuracy did not improve from 1.00000\n",
            "Epoch 15/20\n",
            "33/33 [==============================] - 9s 289ms/step - loss: 0.0793 - accuracy: 0.9697 - val_loss: 0.0072 - val_accuracy: 1.0000\n",
            "\n",
            "Epoch 00015: val_accuracy did not improve from 1.00000\n",
            "Epoch 16/20\n",
            "33/33 [==============================] - 9s 289ms/step - loss: 0.1244 - accuracy: 0.9394 - val_loss: 0.5112 - val_accuracy: 0.8000\n",
            "\n",
            "Epoch 00016: val_accuracy did not improve from 1.00000\n",
            "Epoch 17/20\n",
            "33/33 [==============================] - 10s 292ms/step - loss: 0.1156 - accuracy: 0.9394 - val_loss: 0.0288 - val_accuracy: 1.0000\n",
            "\n",
            "Epoch 00017: val_accuracy did not improve from 1.00000\n",
            "Epoch 18/20\n",
            "33/33 [==============================] - 10s 291ms/step - loss: 0.1213 - accuracy: 0.9394 - val_loss: 0.0059 - val_accuracy: 1.0000\n",
            "\n",
            "Epoch 00018: val_accuracy did not improve from 1.00000\n",
            "Epoch 19/20\n",
            "33/33 [==============================] - 10s 296ms/step - loss: 0.0245 - accuracy: 1.0000 - val_loss: 0.0041 - val_accuracy: 1.0000\n",
            "\n",
            "Epoch 00019: val_accuracy did not improve from 1.00000\n",
            "Epoch 20/20\n",
            "33/33 [==============================] - 9s 289ms/step - loss: 0.0344 - accuracy: 1.0000 - val_loss: 0.0068 - val_accuracy: 1.0000\n",
            "\n",
            "Epoch 00020: val_accuracy did not improve from 1.00000\n"
          ]
        }
      ]
    },
    {
      "cell_type": "code",
      "source": [
        "plt.plot(history_cnn.history['accuracy'], \n",
        "         label='Доля верных ответов на обучающем наборе')\n",
        "plt.plot(history_cnn.history['val_accuracy'], \n",
        "         label='Доля верных ответов на проверочном наборе')\n",
        "plt.xlabel('Эпоха обучения')\n",
        "plt.ylabel('Доля верных ответов')\n",
        "plt.legend()\n",
        "plt.show()"
      ],
      "metadata": {
        "colab": {
          "base_uri": "https://localhost:8080/",
          "height": 279
        },
        "id": "Q2II74b7rRRA",
        "outputId": "03c45ef5-3fc0-4451-c9e3-ac8bfbba3907"
      },
      "execution_count": 8,
      "outputs": [
        {
          "output_type": "display_data",
          "data": {
            "image/png": "[encoded data removed]",
            "text/plain": [
              "<Figure size 432x288 with 1 Axes>"
            ]
          },
          "metadata": {
            "needs_background": "light"
          }
        }
      ]
    },
    {
      "cell_type": "code",
      "source": [
        "scores = model.evaluate_generator(test_generator, 1)\n",
        "print(\"Accuracy на тестовой выборке: %.2f%%\" % (scores[1]*100))\n",
        "scores"
      ],
      "metadata": {
        "colab": {
          "base_uri": "https://localhost:8080/"
        },
        "id": "8TESA5Wdb3xi",
        "outputId": "eeb945c4-8e7f-4e4d-f460-3195cfbabddf"
      },
      "execution_count": 9,
      "outputs": [
        {
          "output_type": "stream",
          "name": "stderr",
          "text": [
            "/usr/local/lib/python3.7/dist-packages/tensorflow/python/keras/engine/training.py:1996: UserWarning: `Model.evaluate_generator` is deprecated and will be removed in a future version. Please use `Model.evaluate`, which supports generators.\n",
            "  warnings.warn('`Model.evaluate_generator` is deprecated and '\n"
          ]
        },
        {
          "output_type": "stream",
          "name": "stdout",
          "text": [
            "Accuracy на тестовой выборке: 100.00%\n"
          ]
        },
        {
          "output_type": "execute_result",
          "data": {
            "text/plain": [
              "[0.05937409773468971, 1.0]"
            ]
          },
          "metadata": {},
          "execution_count": 9
        }
      ]
    },
    {
      "cell_type": "code",
      "source": [
        ""
      ],
      "metadata": {
        "id": "dRY2jiNZzmtQ"
      },
      "execution_count": 9,
      "outputs": []
    }
  ]
}